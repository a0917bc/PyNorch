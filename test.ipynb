{
 "cells": [
  {
   "cell_type": "code",
   "execution_count": 1,
   "metadata": {},
   "outputs": [
    {
     "name": "stdout",
     "output_type": "stream",
     "text": [
      "tensor([[7.0, 3.0,],\n",
      "[7.0, 3.0,]], device=\"cpu\", requires_grad=True)\n"
     ]
    }
   ],
   "source": [
    "import norch\n",
    "\n",
    "x1 = norch.Tensor([[1, 2], \n",
    "                  [3, 4]], requires_grad=True).to(\"cpu\")\n",
    "\n",
    "x2 = norch.Tensor([[4, 3], \n",
    "                  [2, 1]], requires_grad=True).to(\"cpu\")\n",
    "\n",
    "x3 = x1 @ x2\n",
    "result = x3.sum()\n",
    "result.backward()\n",
    "\n",
    "print(x1.grad)"
   ]
  },
  {
   "cell_type": "code",
   "execution_count": 2,
   "metadata": {},
   "outputs": [
    {
     "data": {
      "text/plain": [
       "tensor([[1.0, 2.0,],\n",
       "[3.0, 4.0,]], device=\"cpu\", requires_grad=True)"
      ]
     },
     "execution_count": 2,
     "metadata": {},
     "output_type": "execute_result"
    }
   ],
   "source": [
    "x1"
   ]
  }
 ],
 "metadata": {
  "kernelspec": {
   "display_name": "OwnTorch",
   "language": "python",
   "name": "python3"
  },
  "language_info": {
   "codemirror_mode": {
    "name": "ipython",
    "version": 3
   },
   "file_extension": ".py",
   "mimetype": "text/x-python",
   "name": "python",
   "nbconvert_exporter": "python",
   "pygments_lexer": "ipython3",
   "version": "3.11.9"
  }
 },
 "nbformat": 4,
 "nbformat_minor": 2
}
